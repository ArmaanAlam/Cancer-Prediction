{
 "cells": [
  {
   "cell_type": "code",
   "execution_count": 24,
   "id": "46f6f5e5",
   "metadata": {},
   "outputs": [],
   "source": [
    "import numpy as np\n",
    "import pandas as pd\n",
    "from sklearn.compose import ColumnTransformer\n",
    "from sklearn.preprocessing import OrdinalEncoder, StandardScaler\n",
    "from sklearn.pipeline import Pipeline\n",
    "from sklearn.model_selection import train_test_split\n",
    "from sklearn.preprocessing import LabelEncoder\n",
    "import tensorflow as tf\n",
    "from tensorflow.keras.models import Sequential\n",
    "from tensorflow.keras.layers import Dense, Dropout\n",
    "from tensorflow.keras.utils import to_categorical\n",
    "from sklearn.preprocessing import LabelEncoder\n",
    "from tensorflow.keras.layers import BatchNormalization\n"
   ]
  },
  {
   "cell_type": "code",
   "execution_count": null,
   "id": "cd304f70",
   "metadata": {},
   "outputs": [],
   "source": []
  },
  {
   "cell_type": "code",
   "execution_count": 2,
   "id": "c18471f0",
   "metadata": {},
   "outputs": [],
   "source": [
    "df = pd.read_csv(\"cancer_risk.csv\")"
   ]
  },
  {
   "cell_type": "code",
   "execution_count": null,
   "id": "a1ea1232",
   "metadata": {},
   "outputs": [],
   "source": []
  },
  {
   "cell_type": "code",
   "execution_count": 4,
   "id": "0cae92b1",
   "metadata": {},
   "outputs": [
    {
     "name": "stdout",
     "output_type": "stream",
     "text": [
      "<class 'pandas.core.frame.DataFrame'>\n",
      "RangeIndex: 1000 entries, 0 to 999\n",
      "Data columns (total 13 columns):\n",
      " #   Column                   Non-Null Count  Dtype  \n",
      "---  ------                   --------------  -----  \n",
      " 0   id                       1000 non-null   int64  \n",
      " 1   age                      1000 non-null   int64  \n",
      " 2   bmi                      1000 non-null   float64\n",
      " 3   smoker                   1000 non-null   object \n",
      " 4   alcohol_consumption      605 non-null    object \n",
      " 5   diet_type                1000 non-null   object \n",
      " 6   physical_activity_level  1000 non-null   object \n",
      " 7   family_history           1000 non-null   object \n",
      " 8   mental_stress_level      1000 non-null   object \n",
      " 9   sleep_hours              1000 non-null   float64\n",
      " 10  regular_health_checkup   1000 non-null   object \n",
      " 11  prostate_exam_done       1000 non-null   object \n",
      " 12  risk_level               1000 non-null   object \n",
      "dtypes: float64(2), int64(2), object(9)\n",
      "memory usage: 101.7+ KB\n"
     ]
    }
   ],
   "source": [
    "df.info()"
   ]
  },
  {
   "cell_type": "code",
   "execution_count": 5,
   "id": "1e54b2f8",
   "metadata": {},
   "outputs": [
    {
     "data": {
      "text/plain": [
       "id                           0\n",
       "age                          0\n",
       "bmi                          0\n",
       "smoker                       0\n",
       "alcohol_consumption        395\n",
       "diet_type                    0\n",
       "physical_activity_level      0\n",
       "family_history               0\n",
       "mental_stress_level          0\n",
       "sleep_hours                  0\n",
       "regular_health_checkup       0\n",
       "prostate_exam_done           0\n",
       "risk_level                   0\n",
       "dtype: int64"
      ]
     },
     "execution_count": 5,
     "metadata": {},
     "output_type": "execute_result"
    }
   ],
   "source": [
    "df.isnull().sum()"
   ]
  },
  {
   "cell_type": "code",
   "execution_count": 6,
   "id": "7d559575",
   "metadata": {},
   "outputs": [
    {
     "data": {
      "text/plain": [
       "0"
      ]
     },
     "execution_count": 6,
     "metadata": {},
     "output_type": "execute_result"
    }
   ],
   "source": [
    "df.duplicated().sum()"
   ]
  },
  {
   "cell_type": "code",
   "execution_count": null,
   "id": "0d65c732",
   "metadata": {},
   "outputs": [],
   "source": []
  },
  {
   "cell_type": "code",
   "execution_count": null,
   "id": "baa2efcc",
   "metadata": {},
   "outputs": [],
   "source": []
  },
  {
   "cell_type": "code",
   "execution_count": 7,
   "id": "5fde38bd",
   "metadata": {},
   "outputs": [],
   "source": [
    "df['alcohol_consumption'] = df['alcohol_consumption'].fillna('Unknown')\n",
    "df['alcohol_consumption'] = df['alcohol_consumption'].astype('category')"
   ]
  },
  {
   "cell_type": "code",
   "execution_count": 8,
   "id": "a388a083",
   "metadata": {},
   "outputs": [],
   "source": [
    "df.drop('id', axis=1, inplace=True)"
   ]
  },
  {
   "cell_type": "code",
   "execution_count": 9,
   "id": "0fbc3992",
   "metadata": {},
   "outputs": [
    {
     "data": {
      "text/html": [
       "<div>\n",
       "<style scoped>\n",
       "    .dataframe tbody tr th:only-of-type {\n",
       "        vertical-align: middle;\n",
       "    }\n",
       "\n",
       "    .dataframe tbody tr th {\n",
       "        vertical-align: top;\n",
       "    }\n",
       "\n",
       "    .dataframe thead th {\n",
       "        text-align: right;\n",
       "    }\n",
       "</style>\n",
       "<table border=\"1\" class=\"dataframe\">\n",
       "  <thead>\n",
       "    <tr style=\"text-align: right;\">\n",
       "      <th></th>\n",
       "      <th>age</th>\n",
       "      <th>bmi</th>\n",
       "      <th>smoker</th>\n",
       "      <th>alcohol_consumption</th>\n",
       "      <th>diet_type</th>\n",
       "      <th>physical_activity_level</th>\n",
       "      <th>family_history</th>\n",
       "      <th>mental_stress_level</th>\n",
       "      <th>sleep_hours</th>\n",
       "      <th>regular_health_checkup</th>\n",
       "      <th>prostate_exam_done</th>\n",
       "      <th>risk_level</th>\n",
       "    </tr>\n",
       "  </thead>\n",
       "  <tbody>\n",
       "    <tr>\n",
       "      <th>0</th>\n",
       "      <td>39</td>\n",
       "      <td>24.7</td>\n",
       "      <td>No</td>\n",
       "      <td>Unknown</td>\n",
       "      <td>Fatty</td>\n",
       "      <td>Moderate</td>\n",
       "      <td>No</td>\n",
       "      <td>High</td>\n",
       "      <td>5.6</td>\n",
       "      <td>No</td>\n",
       "      <td>No</td>\n",
       "      <td>Medium</td>\n",
       "    </tr>\n",
       "    <tr>\n",
       "      <th>1</th>\n",
       "      <td>43</td>\n",
       "      <td>25.6</td>\n",
       "      <td>Yes</td>\n",
       "      <td>Unknown</td>\n",
       "      <td>Mixed</td>\n",
       "      <td>High</td>\n",
       "      <td>No</td>\n",
       "      <td>High</td>\n",
       "      <td>6.9</td>\n",
       "      <td>Yes</td>\n",
       "      <td>No</td>\n",
       "      <td>Low</td>\n",
       "    </tr>\n",
       "    <tr>\n",
       "      <th>2</th>\n",
       "      <td>72</td>\n",
       "      <td>22.4</td>\n",
       "      <td>No</td>\n",
       "      <td>Moderate</td>\n",
       "      <td>Mixed</td>\n",
       "      <td>Moderate</td>\n",
       "      <td>No</td>\n",
       "      <td>High</td>\n",
       "      <td>7.8</td>\n",
       "      <td>Yes</td>\n",
       "      <td>No</td>\n",
       "      <td>Low</td>\n",
       "    </tr>\n",
       "    <tr>\n",
       "      <th>3</th>\n",
       "      <td>60</td>\n",
       "      <td>25.6</td>\n",
       "      <td>Yes</td>\n",
       "      <td>Unknown</td>\n",
       "      <td>Fatty</td>\n",
       "      <td>Moderate</td>\n",
       "      <td>No</td>\n",
       "      <td>High</td>\n",
       "      <td>5.6</td>\n",
       "      <td>Yes</td>\n",
       "      <td>No</td>\n",
       "      <td>Medium</td>\n",
       "    </tr>\n",
       "    <tr>\n",
       "      <th>4</th>\n",
       "      <td>51</td>\n",
       "      <td>26.6</td>\n",
       "      <td>Yes</td>\n",
       "      <td>Unknown</td>\n",
       "      <td>Mixed</td>\n",
       "      <td>Low</td>\n",
       "      <td>No</td>\n",
       "      <td>Medium</td>\n",
       "      <td>5.9</td>\n",
       "      <td>No</td>\n",
       "      <td>No</td>\n",
       "      <td>Medium</td>\n",
       "    </tr>\n",
       "  </tbody>\n",
       "</table>\n",
       "</div>"
      ],
      "text/plain": [
       "   age   bmi smoker alcohol_consumption diet_type physical_activity_level  \\\n",
       "0   39  24.7     No             Unknown     Fatty                Moderate   \n",
       "1   43  25.6    Yes             Unknown     Mixed                    High   \n",
       "2   72  22.4     No            Moderate     Mixed                Moderate   \n",
       "3   60  25.6    Yes             Unknown     Fatty                Moderate   \n",
       "4   51  26.6    Yes             Unknown     Mixed                     Low   \n",
       "\n",
       "  family_history mental_stress_level  sleep_hours regular_health_checkup  \\\n",
       "0             No                High          5.6                     No   \n",
       "1             No                High          6.9                    Yes   \n",
       "2             No                High          7.8                    Yes   \n",
       "3             No                High          5.6                    Yes   \n",
       "4             No              Medium          5.9                     No   \n",
       "\n",
       "  prostate_exam_done risk_level  \n",
       "0                 No     Medium  \n",
       "1                 No        Low  \n",
       "2                 No        Low  \n",
       "3                 No     Medium  \n",
       "4                 No     Medium  "
      ]
     },
     "execution_count": 9,
     "metadata": {},
     "output_type": "execute_result"
    }
   ],
   "source": [
    "df.head(5)"
   ]
  },
  {
   "cell_type": "code",
   "execution_count": 10,
   "id": "e46b6a93",
   "metadata": {},
   "outputs": [
    {
     "name": "stdout",
     "output_type": "stream",
     "text": [
      "<class 'pandas.core.frame.DataFrame'>\n",
      "RangeIndex: 1000 entries, 0 to 999\n",
      "Data columns (total 12 columns):\n",
      " #   Column                   Non-Null Count  Dtype   \n",
      "---  ------                   --------------  -----   \n",
      " 0   age                      1000 non-null   int64   \n",
      " 1   bmi                      1000 non-null   float64 \n",
      " 2   smoker                   1000 non-null   object  \n",
      " 3   alcohol_consumption      1000 non-null   category\n",
      " 4   diet_type                1000 non-null   object  \n",
      " 5   physical_activity_level  1000 non-null   object  \n",
      " 6   family_history           1000 non-null   object  \n",
      " 7   mental_stress_level      1000 non-null   object  \n",
      " 8   sleep_hours              1000 non-null   float64 \n",
      " 9   regular_health_checkup   1000 non-null   object  \n",
      " 10  prostate_exam_done       1000 non-null   object  \n",
      " 11  risk_level               1000 non-null   object  \n",
      "dtypes: category(1), float64(2), int64(1), object(8)\n",
      "memory usage: 87.2+ KB\n"
     ]
    }
   ],
   "source": [
    "df.info()"
   ]
  },
  {
   "cell_type": "code",
   "execution_count": 11,
   "id": "ba50f9a8",
   "metadata": {},
   "outputs": [
    {
     "data": {
      "text/plain": [
       "(1000, 12)"
      ]
     },
     "execution_count": 11,
     "metadata": {},
     "output_type": "execute_result"
    }
   ],
   "source": [
    "df.shape"
   ]
  },
  {
   "cell_type": "code",
   "execution_count": null,
   "id": "0b39ee6e",
   "metadata": {},
   "outputs": [],
   "source": []
  },
  {
   "cell_type": "code",
   "execution_count": null,
   "id": "10452f88",
   "metadata": {},
   "outputs": [],
   "source": []
  },
  {
   "cell_type": "code",
   "execution_count": 12,
   "id": "cfbaca8e",
   "metadata": {},
   "outputs": [],
   "source": [
    "X = df.drop('risk_level', axis=1)\n",
    "y = df['risk_level']\n",
    "\n",
    "X_train, X_test, y_train, y_test = train_test_split(X, y, test_size=0.2, random_state=42, stratify=y)"
   ]
  },
  {
   "cell_type": "code",
   "execution_count": null,
   "id": "8d074c90",
   "metadata": {},
   "outputs": [],
   "source": []
  },
  {
   "cell_type": "code",
   "execution_count": null,
   "id": "2715fa04",
   "metadata": {},
   "outputs": [],
   "source": []
  },
  {
   "cell_type": "code",
   "execution_count": 13,
   "id": "9f9316b2",
   "metadata": {},
   "outputs": [],
   "source": [
    "# Categorical columns to ordinal encode in X\n",
    "ordinal_cols = [\n",
    "    'smoker',\n",
    "    'alcohol_consumption',\n",
    "    'diet_type',\n",
    "    'physical_activity_level',\n",
    "    'family_history',\n",
    "    'mental_stress_level',\n",
    "    'regular_health_checkup',\n",
    "    'prostate_exam_done'\n",
    "]\n",
    "\n",
    "# Numerical columns to standardize\n",
    "numeric_cols = ['age', 'bmi', 'sleep_hours']\n",
    "\n",
    "# Target column\n",
    "label_col = ['risk_level']\n"
   ]
  },
  {
   "cell_type": "code",
   "execution_count": 14,
   "id": "c043faeb",
   "metadata": {},
   "outputs": [],
   "source": [
    "transformer_X = ColumnTransformer(\n",
    "    transformers=[\n",
    "        (\"Ord_Enc\", OrdinalEncoder(), ordinal_cols),\n",
    "        (\"STD_Scaler\", StandardScaler(), numeric_cols)\n",
    "    ],\n",
    "    remainder='passthrough'\n",
    ")\n",
    "\n",
    "X_train_transformed = transformer_X.fit_transform(X_train)\n",
    "X_test_transformed = transformer_X.transform(X_test)\n"
   ]
  },
  {
   "cell_type": "code",
   "execution_count": 15,
   "id": "9e633c30",
   "metadata": {},
   "outputs": [],
   "source": [
    "label_encoder = LabelEncoder()\n",
    "\n",
    "y_train_encoded = label_encoder.fit_transform(y_train)\n",
    "y_test_encoded = label_encoder.transform(y_test)"
   ]
  },
  {
   "cell_type": "code",
   "execution_count": 37,
   "id": "3e70eab7",
   "metadata": {},
   "outputs": [],
   "source": [
    "import joblib"
   ]
  },
  {
   "cell_type": "code",
   "execution_count": 38,
   "id": "421cf69f",
   "metadata": {},
   "outputs": [
    {
     "data": {
      "text/plain": [
       "['label_encoder.pkl']"
      ]
     },
     "execution_count": 38,
     "metadata": {},
     "output_type": "execute_result"
    }
   ],
   "source": [
    "joblib.dump(transformer_X, \"transformer_X.pkl\")\n",
    "# Save the label encoder\n",
    "joblib.dump(label_encoder, \"label_encoder.pkl\")"
   ]
  },
  {
   "cell_type": "code",
   "execution_count": 42,
   "id": "9423288a",
   "metadata": {},
   "outputs": [
    {
     "data": {
      "text/plain": [
       "['transformer_X.pkl']"
      ]
     },
     "execution_count": 42,
     "metadata": {},
     "output_type": "execute_result"
    }
   ],
   "source": [
    "joblib.dump(transformer_X, \"transformer_X.pkl\")"
   ]
  },
  {
   "cell_type": "code",
   "execution_count": null,
   "id": "1f933e14",
   "metadata": {},
   "outputs": [],
   "source": []
  },
  {
   "cell_type": "code",
   "execution_count": null,
   "id": "060b5667",
   "metadata": {},
   "outputs": [],
   "source": []
  },
  {
   "cell_type": "code",
   "execution_count": 18,
   "id": "86172188",
   "metadata": {},
   "outputs": [],
   "source": [
    "num_classes = len(set(y_train_encoded))\n",
    "y_train_cat = to_categorical(y_train_encoded, num_classes=num_classes)"
   ]
  },
  {
   "cell_type": "code",
   "execution_count": 25,
   "id": "2be2bc9e",
   "metadata": {},
   "outputs": [],
   "source": [
    "model = Sequential([\n",
    "    Dense(64, activation='relu', input_shape=(X_train_transformed.shape[1],)),\n",
    "    BatchNormalization(),\n",
    "    Dropout(0.3),\n",
    "    Dense(32, activation='relu'),\n",
    "    BatchNormalization(),\n",
    "    Dropout(0.2),\n",
    "    Dense(num_classes, activation='softmax')\n",
    "])"
   ]
  },
  {
   "cell_type": "code",
   "execution_count": 26,
   "id": "9da3cf05",
   "metadata": {},
   "outputs": [
    {
     "name": "stdout",
     "output_type": "stream",
     "text": [
      "Model: \"sequential_1\"\n",
      "_________________________________________________________________\n",
      " Layer (type)                Output Shape              Param #   \n",
      "=================================================================\n",
      " dense_3 (Dense)             (None, 64)                768       \n",
      "                                                                 \n",
      " batch_normalization (BatchN  (None, 64)               256       \n",
      " ormalization)                                                   \n",
      "                                                                 \n",
      " dropout_2 (Dropout)         (None, 64)                0         \n",
      "                                                                 \n",
      " dense_4 (Dense)             (None, 32)                2080      \n",
      "                                                                 \n",
      " batch_normalization_1 (Batc  (None, 32)               128       \n",
      " hNormalization)                                                 \n",
      "                                                                 \n",
      " dropout_3 (Dropout)         (None, 32)                0         \n",
      "                                                                 \n",
      " dense_5 (Dense)             (None, 3)                 99        \n",
      "                                                                 \n",
      "=================================================================\n",
      "Total params: 3,331\n",
      "Trainable params: 3,139\n",
      "Non-trainable params: 192\n",
      "_________________________________________________________________\n"
     ]
    }
   ],
   "source": [
    "model.summary()"
   ]
  },
  {
   "cell_type": "code",
   "execution_count": null,
   "id": "4ff2efe1",
   "metadata": {},
   "outputs": [],
   "source": [
    "model.compile(optimizer='adam', loss='sparse_categorical_crossentropy', metrics=['accuracy'])"
   ]
  },
  {
   "cell_type": "code",
   "execution_count": 31,
   "id": "d3b5f415",
   "metadata": {},
   "outputs": [
    {
     "name": "stdout",
     "output_type": "stream",
     "text": [
      "Epoch 1/100\n",
      "20/20 [==============================] - 2s 45ms/step - loss: 1.6095 - accuracy: 0.3906 - val_loss: 1.1925 - val_accuracy: 0.5000\n",
      "Epoch 2/100\n",
      "20/20 [==============================] - 0s 23ms/step - loss: 1.3295 - accuracy: 0.4516 - val_loss: 1.0771 - val_accuracy: 0.5500\n",
      "Epoch 3/100\n",
      "20/20 [==============================] - 0s 12ms/step - loss: 1.1166 - accuracy: 0.5531 - val_loss: 0.9920 - val_accuracy: 0.5688\n",
      "Epoch 4/100\n",
      "20/20 [==============================] - 0s 12ms/step - loss: 0.9829 - accuracy: 0.5859 - val_loss: 0.9290 - val_accuracy: 0.6000\n",
      "Epoch 5/100\n",
      "20/20 [==============================] - 0s 12ms/step - loss: 0.8767 - accuracy: 0.6172 - val_loss: 0.8754 - val_accuracy: 0.6313\n",
      "Epoch 6/100\n",
      "20/20 [==============================] - 0s 12ms/step - loss: 0.8547 - accuracy: 0.6391 - val_loss: 0.8292 - val_accuracy: 0.6438\n",
      "Epoch 7/100\n",
      "20/20 [==============================] - 0s 12ms/step - loss: 0.8122 - accuracy: 0.6734 - val_loss: 0.7832 - val_accuracy: 0.6438\n",
      "Epoch 8/100\n",
      "20/20 [==============================] - 0s 13ms/step - loss: 0.7448 - accuracy: 0.6797 - val_loss: 0.7549 - val_accuracy: 0.6625\n",
      "Epoch 9/100\n",
      "20/20 [==============================] - 0s 13ms/step - loss: 0.7096 - accuracy: 0.7031 - val_loss: 0.7318 - val_accuracy: 0.6687\n",
      "Epoch 10/100\n",
      "20/20 [==============================] - 0s 13ms/step - loss: 0.6790 - accuracy: 0.7094 - val_loss: 0.6974 - val_accuracy: 0.6562\n",
      "Epoch 11/100\n",
      "20/20 [==============================] - 0s 12ms/step - loss: 0.6643 - accuracy: 0.7063 - val_loss: 0.6771 - val_accuracy: 0.6687\n",
      "Epoch 12/100\n",
      "20/20 [==============================] - 0s 12ms/step - loss: 0.6375 - accuracy: 0.7281 - val_loss: 0.6502 - val_accuracy: 0.6812\n",
      "Epoch 13/100\n",
      "20/20 [==============================] - 0s 13ms/step - loss: 0.6217 - accuracy: 0.7563 - val_loss: 0.6355 - val_accuracy: 0.7000\n",
      "Epoch 14/100\n",
      "20/20 [==============================] - 0s 13ms/step - loss: 0.6141 - accuracy: 0.7344 - val_loss: 0.6393 - val_accuracy: 0.7063\n",
      "Epoch 15/100\n",
      "20/20 [==============================] - 0s 13ms/step - loss: 0.5680 - accuracy: 0.7719 - val_loss: 0.6223 - val_accuracy: 0.7063\n",
      "Epoch 16/100\n",
      "20/20 [==============================] - 0s 12ms/step - loss: 0.5852 - accuracy: 0.7563 - val_loss: 0.6075 - val_accuracy: 0.7125\n",
      "Epoch 17/100\n",
      "20/20 [==============================] - 0s 11ms/step - loss: 0.5235 - accuracy: 0.7875 - val_loss: 0.5994 - val_accuracy: 0.7188\n",
      "Epoch 18/100\n",
      "20/20 [==============================] - 0s 13ms/step - loss: 0.5205 - accuracy: 0.7797 - val_loss: 0.5961 - val_accuracy: 0.7312\n",
      "Epoch 19/100\n",
      "20/20 [==============================] - 0s 12ms/step - loss: 0.4921 - accuracy: 0.7828 - val_loss: 0.5748 - val_accuracy: 0.7563\n",
      "Epoch 20/100\n",
      "20/20 [==============================] - 0s 12ms/step - loss: 0.5111 - accuracy: 0.7844 - val_loss: 0.5596 - val_accuracy: 0.7625\n",
      "Epoch 21/100\n",
      "20/20 [==============================] - 0s 12ms/step - loss: 0.5230 - accuracy: 0.7688 - val_loss: 0.5534 - val_accuracy: 0.7688\n",
      "Epoch 22/100\n",
      "20/20 [==============================] - 0s 13ms/step - loss: 0.4722 - accuracy: 0.8203 - val_loss: 0.5449 - val_accuracy: 0.7625\n",
      "Epoch 23/100\n",
      "20/20 [==============================] - 0s 11ms/step - loss: 0.4803 - accuracy: 0.8000 - val_loss: 0.5508 - val_accuracy: 0.7625\n",
      "Epoch 24/100\n",
      "20/20 [==============================] - 0s 12ms/step - loss: 0.4509 - accuracy: 0.8156 - val_loss: 0.5435 - val_accuracy: 0.7688\n",
      "Epoch 25/100\n",
      "20/20 [==============================] - 0s 12ms/step - loss: 0.4541 - accuracy: 0.8203 - val_loss: 0.5285 - val_accuracy: 0.7750\n",
      "Epoch 26/100\n",
      "20/20 [==============================] - 0s 12ms/step - loss: 0.4494 - accuracy: 0.8094 - val_loss: 0.5242 - val_accuracy: 0.7750\n",
      "Epoch 27/100\n",
      "20/20 [==============================] - 0s 13ms/step - loss: 0.4706 - accuracy: 0.8156 - val_loss: 0.5144 - val_accuracy: 0.7812\n",
      "Epoch 28/100\n",
      "20/20 [==============================] - 0s 12ms/step - loss: 0.4192 - accuracy: 0.8250 - val_loss: 0.5164 - val_accuracy: 0.7875\n",
      "Epoch 29/100\n",
      "20/20 [==============================] - 0s 12ms/step - loss: 0.4257 - accuracy: 0.8156 - val_loss: 0.5081 - val_accuracy: 0.7812\n",
      "Epoch 30/100\n",
      "20/20 [==============================] - 0s 12ms/step - loss: 0.4106 - accuracy: 0.8406 - val_loss: 0.5057 - val_accuracy: 0.7812\n",
      "Epoch 31/100\n",
      "20/20 [==============================] - 0s 12ms/step - loss: 0.4007 - accuracy: 0.8344 - val_loss: 0.5089 - val_accuracy: 0.7750\n",
      "Epoch 32/100\n",
      "20/20 [==============================] - 0s 12ms/step - loss: 0.3753 - accuracy: 0.8422 - val_loss: 0.4994 - val_accuracy: 0.7875\n",
      "Epoch 33/100\n",
      "20/20 [==============================] - 0s 12ms/step - loss: 0.3914 - accuracy: 0.8281 - val_loss: 0.4948 - val_accuracy: 0.7937\n",
      "Epoch 34/100\n",
      "20/20 [==============================] - 0s 12ms/step - loss: 0.3905 - accuracy: 0.8422 - val_loss: 0.4848 - val_accuracy: 0.7688\n",
      "Epoch 35/100\n",
      "20/20 [==============================] - 0s 11ms/step - loss: 0.3595 - accuracy: 0.8547 - val_loss: 0.4751 - val_accuracy: 0.7875\n",
      "Epoch 36/100\n",
      "20/20 [==============================] - 0s 13ms/step - loss: 0.3924 - accuracy: 0.8266 - val_loss: 0.4727 - val_accuracy: 0.7937\n",
      "Epoch 37/100\n",
      "20/20 [==============================] - 0s 14ms/step - loss: 0.4004 - accuracy: 0.8313 - val_loss: 0.4705 - val_accuracy: 0.8062\n",
      "Epoch 38/100\n",
      "20/20 [==============================] - 0s 13ms/step - loss: 0.3648 - accuracy: 0.8438 - val_loss: 0.4605 - val_accuracy: 0.8188\n",
      "Epoch 39/100\n",
      "20/20 [==============================] - 0s 11ms/step - loss: 0.3592 - accuracy: 0.8531 - val_loss: 0.4563 - val_accuracy: 0.8125\n",
      "Epoch 40/100\n",
      "20/20 [==============================] - 0s 12ms/step - loss: 0.3432 - accuracy: 0.8609 - val_loss: 0.4616 - val_accuracy: 0.8062\n",
      "Epoch 41/100\n",
      "20/20 [==============================] - 0s 12ms/step - loss: 0.3440 - accuracy: 0.8484 - val_loss: 0.4636 - val_accuracy: 0.8188\n",
      "Epoch 42/100\n",
      "20/20 [==============================] - 0s 12ms/step - loss: 0.3266 - accuracy: 0.8531 - val_loss: 0.4455 - val_accuracy: 0.8438\n",
      "Epoch 43/100\n",
      "20/20 [==============================] - 0s 12ms/step - loss: 0.3197 - accuracy: 0.8828 - val_loss: 0.4450 - val_accuracy: 0.8438\n",
      "Epoch 44/100\n",
      "20/20 [==============================] - 0s 12ms/step - loss: 0.3463 - accuracy: 0.8547 - val_loss: 0.4479 - val_accuracy: 0.8313\n",
      "Epoch 45/100\n",
      "20/20 [==============================] - 0s 12ms/step - loss: 0.3499 - accuracy: 0.8469 - val_loss: 0.4388 - val_accuracy: 0.8375\n",
      "Epoch 46/100\n",
      "20/20 [==============================] - 0s 12ms/step - loss: 0.3415 - accuracy: 0.8609 - val_loss: 0.4384 - val_accuracy: 0.8375\n",
      "Epoch 47/100\n",
      "20/20 [==============================] - 0s 13ms/step - loss: 0.3253 - accuracy: 0.8578 - val_loss: 0.4398 - val_accuracy: 0.8375\n",
      "Epoch 48/100\n",
      "20/20 [==============================] - 0s 11ms/step - loss: 0.3190 - accuracy: 0.8734 - val_loss: 0.4431 - val_accuracy: 0.8375\n",
      "Epoch 49/100\n",
      "20/20 [==============================] - 0s 12ms/step - loss: 0.3115 - accuracy: 0.8656 - val_loss: 0.4257 - val_accuracy: 0.8562\n",
      "Epoch 50/100\n",
      "20/20 [==============================] - 0s 12ms/step - loss: 0.3054 - accuracy: 0.8750 - val_loss: 0.4183 - val_accuracy: 0.8562\n",
      "Epoch 51/100\n",
      "20/20 [==============================] - 0s 11ms/step - loss: 0.3014 - accuracy: 0.8828 - val_loss: 0.4109 - val_accuracy: 0.8500\n",
      "Epoch 52/100\n",
      "20/20 [==============================] - 0s 12ms/step - loss: 0.2953 - accuracy: 0.8781 - val_loss: 0.4136 - val_accuracy: 0.8562\n",
      "Epoch 53/100\n",
      "20/20 [==============================] - 0s 12ms/step - loss: 0.3007 - accuracy: 0.8672 - val_loss: 0.4148 - val_accuracy: 0.8625\n",
      "Epoch 54/100\n",
      "20/20 [==============================] - 0s 12ms/step - loss: 0.3421 - accuracy: 0.8562 - val_loss: 0.4169 - val_accuracy: 0.8500\n",
      "Epoch 55/100\n",
      "20/20 [==============================] - 0s 12ms/step - loss: 0.2905 - accuracy: 0.8844 - val_loss: 0.4220 - val_accuracy: 0.8625\n",
      "Epoch 56/100\n",
      "20/20 [==============================] - 0s 13ms/step - loss: 0.2778 - accuracy: 0.9016 - val_loss: 0.4178 - val_accuracy: 0.8625\n",
      "Epoch 57/100\n",
      "20/20 [==============================] - 0s 11ms/step - loss: 0.2992 - accuracy: 0.8844 - val_loss: 0.4224 - val_accuracy: 0.8562\n",
      "Epoch 58/100\n",
      "20/20 [==============================] - 0s 12ms/step - loss: 0.2984 - accuracy: 0.8797 - val_loss: 0.4161 - val_accuracy: 0.8687\n",
      "Epoch 59/100\n",
      "20/20 [==============================] - 0s 12ms/step - loss: 0.2966 - accuracy: 0.8828 - val_loss: 0.4127 - val_accuracy: 0.8562\n",
      "Epoch 60/100\n",
      "20/20 [==============================] - 0s 13ms/step - loss: 0.3211 - accuracy: 0.8687 - val_loss: 0.4034 - val_accuracy: 0.8562\n",
      "Epoch 61/100\n",
      "20/20 [==============================] - 0s 12ms/step - loss: 0.3165 - accuracy: 0.8734 - val_loss: 0.4026 - val_accuracy: 0.8625\n",
      "Epoch 62/100\n",
      "20/20 [==============================] - 0s 12ms/step - loss: 0.2737 - accuracy: 0.8984 - val_loss: 0.3937 - val_accuracy: 0.8438\n",
      "Epoch 63/100\n",
      "20/20 [==============================] - 0s 12ms/step - loss: 0.2746 - accuracy: 0.8922 - val_loss: 0.4010 - val_accuracy: 0.8500\n",
      "Epoch 64/100\n",
      "20/20 [==============================] - 0s 12ms/step - loss: 0.2579 - accuracy: 0.8953 - val_loss: 0.3932 - val_accuracy: 0.8625\n",
      "Epoch 65/100\n",
      "20/20 [==============================] - 0s 12ms/step - loss: 0.3050 - accuracy: 0.8734 - val_loss: 0.3892 - val_accuracy: 0.8625\n",
      "Epoch 66/100\n",
      "20/20 [==============================] - 0s 12ms/step - loss: 0.2664 - accuracy: 0.8891 - val_loss: 0.3840 - val_accuracy: 0.8625\n",
      "Epoch 67/100\n",
      "20/20 [==============================] - 0s 12ms/step - loss: 0.2970 - accuracy: 0.8734 - val_loss: 0.3778 - val_accuracy: 0.8562\n",
      "Epoch 68/100\n",
      "20/20 [==============================] - 0s 12ms/step - loss: 0.2338 - accuracy: 0.9141 - val_loss: 0.3726 - val_accuracy: 0.8500\n",
      "Epoch 69/100\n",
      "20/20 [==============================] - 0s 12ms/step - loss: 0.2586 - accuracy: 0.8922 - val_loss: 0.3771 - val_accuracy: 0.8562\n",
      "Epoch 70/100\n",
      "20/20 [==============================] - 0s 13ms/step - loss: 0.2782 - accuracy: 0.8859 - val_loss: 0.3877 - val_accuracy: 0.8625\n",
      "Epoch 71/100\n",
      "20/20 [==============================] - 0s 13ms/step - loss: 0.2705 - accuracy: 0.8969 - val_loss: 0.3778 - val_accuracy: 0.8562\n",
      "Epoch 72/100\n",
      "20/20 [==============================] - 0s 11ms/step - loss: 0.2683 - accuracy: 0.8891 - val_loss: 0.3809 - val_accuracy: 0.8562\n",
      "Epoch 73/100\n",
      "20/20 [==============================] - 0s 11ms/step - loss: 0.2741 - accuracy: 0.8813 - val_loss: 0.3815 - val_accuracy: 0.8625\n",
      "Epoch 74/100\n",
      "20/20 [==============================] - 0s 12ms/step - loss: 0.2327 - accuracy: 0.9047 - val_loss: 0.3778 - val_accuracy: 0.8562\n",
      "Epoch 75/100\n",
      "20/20 [==============================] - 0s 12ms/step - loss: 0.2384 - accuracy: 0.9125 - val_loss: 0.3760 - val_accuracy: 0.8562\n",
      "Epoch 76/100\n",
      "20/20 [==============================] - 0s 11ms/step - loss: 0.2687 - accuracy: 0.8938 - val_loss: 0.3726 - val_accuracy: 0.8562\n",
      "Epoch 77/100\n",
      "20/20 [==============================] - 0s 12ms/step - loss: 0.2563 - accuracy: 0.8984 - val_loss: 0.3883 - val_accuracy: 0.8500\n",
      "Epoch 78/100\n",
      "20/20 [==============================] - 0s 12ms/step - loss: 0.2675 - accuracy: 0.8906 - val_loss: 0.3818 - val_accuracy: 0.8500\n",
      "Epoch 79/100\n",
      "20/20 [==============================] - 0s 12ms/step - loss: 0.2759 - accuracy: 0.8984 - val_loss: 0.3721 - val_accuracy: 0.8500\n",
      "Epoch 80/100\n",
      "20/20 [==============================] - 0s 12ms/step - loss: 0.2420 - accuracy: 0.9109 - val_loss: 0.3552 - val_accuracy: 0.8500\n",
      "Epoch 81/100\n",
      "20/20 [==============================] - 0s 12ms/step - loss: 0.3016 - accuracy: 0.8734 - val_loss: 0.3646 - val_accuracy: 0.8500\n",
      "Epoch 82/100\n",
      "20/20 [==============================] - 0s 11ms/step - loss: 0.2609 - accuracy: 0.8938 - val_loss: 0.3627 - val_accuracy: 0.8500\n",
      "Epoch 83/100\n",
      "20/20 [==============================] - 0s 13ms/step - loss: 0.2236 - accuracy: 0.9109 - val_loss: 0.3728 - val_accuracy: 0.8438\n",
      "Epoch 84/100\n",
      "20/20 [==============================] - 0s 12ms/step - loss: 0.2476 - accuracy: 0.9016 - val_loss: 0.3746 - val_accuracy: 0.8438\n",
      "Epoch 85/100\n",
      "20/20 [==============================] - 0s 12ms/step - loss: 0.2645 - accuracy: 0.8953 - val_loss: 0.3712 - val_accuracy: 0.8438\n",
      "Epoch 86/100\n",
      "20/20 [==============================] - 0s 12ms/step - loss: 0.2267 - accuracy: 0.8984 - val_loss: 0.3642 - val_accuracy: 0.8500\n",
      "Epoch 87/100\n",
      "20/20 [==============================] - 0s 12ms/step - loss: 0.2501 - accuracy: 0.9047 - val_loss: 0.3713 - val_accuracy: 0.8500\n",
      "Epoch 88/100\n",
      "20/20 [==============================] - 0s 12ms/step - loss: 0.2324 - accuracy: 0.9047 - val_loss: 0.3768 - val_accuracy: 0.8438\n",
      "Epoch 89/100\n",
      "20/20 [==============================] - 0s 12ms/step - loss: 0.2323 - accuracy: 0.9016 - val_loss: 0.3638 - val_accuracy: 0.8625\n",
      "Epoch 90/100\n",
      "20/20 [==============================] - 0s 12ms/step - loss: 0.2221 - accuracy: 0.9047 - val_loss: 0.3565 - val_accuracy: 0.8438\n",
      "Epoch 91/100\n",
      "20/20 [==============================] - 0s 11ms/step - loss: 0.1936 - accuracy: 0.9297 - val_loss: 0.3650 - val_accuracy: 0.8500\n",
      "Epoch 92/100\n",
      "20/20 [==============================] - 0s 12ms/step - loss: 0.2390 - accuracy: 0.9062 - val_loss: 0.3738 - val_accuracy: 0.8500\n",
      "Epoch 93/100\n",
      "20/20 [==============================] - 0s 11ms/step - loss: 0.2364 - accuracy: 0.9000 - val_loss: 0.3826 - val_accuracy: 0.8562\n",
      "Epoch 94/100\n",
      "20/20 [==============================] - 0s 12ms/step - loss: 0.2671 - accuracy: 0.8797 - val_loss: 0.3854 - val_accuracy: 0.8500\n",
      "Epoch 95/100\n",
      "20/20 [==============================] - 0s 13ms/step - loss: 0.2377 - accuracy: 0.9016 - val_loss: 0.3646 - val_accuracy: 0.8438\n",
      "Epoch 96/100\n",
      "20/20 [==============================] - 0s 11ms/step - loss: 0.2868 - accuracy: 0.8734 - val_loss: 0.3467 - val_accuracy: 0.8500\n",
      "Epoch 97/100\n",
      "20/20 [==============================] - 0s 11ms/step - loss: 0.1982 - accuracy: 0.9234 - val_loss: 0.3576 - val_accuracy: 0.8438\n",
      "Epoch 98/100\n",
      "20/20 [==============================] - 0s 12ms/step - loss: 0.2284 - accuracy: 0.9062 - val_loss: 0.3593 - val_accuracy: 0.8562\n",
      "Epoch 99/100\n",
      "20/20 [==============================] - 0s 12ms/step - loss: 0.2116 - accuracy: 0.9141 - val_loss: 0.3661 - val_accuracy: 0.8562\n",
      "Epoch 100/100\n",
      "20/20 [==============================] - 0s 12ms/step - loss: 0.2380 - accuracy: 0.9031 - val_loss: 0.3797 - val_accuracy: 0.8562\n"
     ]
    },
    {
     "data": {
      "text/plain": [
       "<keras.callbacks.History at 0x1c36faac310>"
      ]
     },
     "execution_count": 31,
     "metadata": {},
     "output_type": "execute_result"
    }
   ],
   "source": [
    "model.fit(X_train_transformed, y_train_encoded, validation_split=0.2, epochs=100)"
   ]
  },
  {
   "cell_type": "code",
   "execution_count": null,
   "id": "4bdcaa75",
   "metadata": {},
   "outputs": [],
   "source": []
  },
  {
   "cell_type": "code",
   "execution_count": null,
   "id": "c41cfb94",
   "metadata": {},
   "outputs": [],
   "source": []
  },
  {
   "cell_type": "code",
   "execution_count": 32,
   "id": "d44d6b10",
   "metadata": {},
   "outputs": [
    {
     "data": {
      "text/plain": [
       "<matplotlib.legend.Legend at 0x1c372f47940>"
      ]
     },
     "execution_count": 32,
     "metadata": {},
     "output_type": "execute_result"
    },
    {
     "data": {
      "image/png": "[encoded data removed]",
      "text/plain": [
       "<Figure size 1200x500 with 1 Axes>"
      ]
     },
     "metadata": {},
     "output_type": "display_data"
    }
   ],
   "source": [
    "import matplotlib.pyplot as plt\n",
    "\n",
    "# Plot training & validation accuracy values\n",
    "plt.figure(figsize=(12, 5))\n",
    "plt.subplot(1, 2, 1)\n",
    "plt.plot(history.history['accuracy'], label='Train Accuracy')\n",
    "plt.plot(history.history['val_accuracy'], label='Validation Accuracy')\n",
    "plt.title('Model Accuracy')\n",
    "plt.xlabel('Epoch')\n",
    "plt.ylabel('Accuracy')\n",
    "plt.legend()\n",
    "\n"
   ]
  },
  {
   "cell_type": "code",
   "execution_count": 33,
   "id": "68030781",
   "metadata": {},
   "outputs": [
    {
     "data": {
      "image/png": "[encoded data removed]",
      "text/plain": [
       "<Figure size 640x480 with 1 Axes>"
      ]
     },
     "metadata": {},
     "output_type": "display_data"
    }
   ],
   "source": [
    "# Plot training & validation loss values\n",
    "plt.subplot(1, 2, 2)\n",
    "plt.plot(history.history['loss'], label='Train Loss')\n",
    "plt.plot(history.history['val_loss'], label='Validation Loss')\n",
    "plt.title('Model Loss')\n",
    "plt.xlabel('Epoch')\n",
    "plt.ylabel('Loss')\n",
    "plt.legend()\n",
    "\n",
    "plt.show()"
   ]
  },
  {
   "cell_type": "code",
   "execution_count": null,
   "id": "a68f0f74",
   "metadata": {},
   "outputs": [],
   "source": []
  },
  {
   "cell_type": "code",
   "execution_count": 35,
   "id": "e8c2461d",
   "metadata": {},
   "outputs": [],
   "source": [
    "# Save model to HDF5 format\n",
    "model.save(\"my_model.h5\")  # You can use any name"
   ]
  }
 ],
 "metadata": {
  "kernelspec": {
   "display_name": "Python 3",
   "language": "python",
   "name": "python3"
  },
  "language_info": {
   "codemirror_mode": {
    "name": "ipython",
    "version": 3
   },
   "file_extension": ".py",
   "mimetype": "text/x-python",
   "name": "python",
   "nbconvert_exporter": "python",
   "pygments_lexer": "ipython3",
   "version": "3.10.0"
  }
 },
 "nbformat": 4,
 "nbformat_minor": 5
}
